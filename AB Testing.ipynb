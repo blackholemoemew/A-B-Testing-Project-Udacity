{
 "cells": [
  {
   "cell_type": "code",
   "execution_count": 1,
   "metadata": {},
   "outputs": [],
   "source": [
    "import numpy as np\n",
    "import pandas as pd\n",
    "from scipy.stats import norm"
   ]
  },
  {
   "cell_type": "code",
   "execution_count": 2,
   "metadata": {},
   "outputs": [],
   "source": [
    "###1.Define the functions that we need in the following analysis.\n",
    "##1.1 Define function to calculate standard deviation for normal distribution\n",
    "def get_sd(p, n):\n",
    "    sd = np.sqrt(p*(1-p)/n)\n",
    "    return sd\n",
    "\n",
    "##1.2 Define function to calculate pooled standard deviation for two samples\n",
    "def get_pooled_sd(p, n1, n2):\n",
    "    pooled_sd = np.sqrt(p*(1-p)*(1/n1+1/n2))\n",
    "    return pooled_sd\n",
    "\n",
    "##1.3 Define function to get Z-score\n",
    "def get_z_score(alpha):\n",
    "    z_score = norm.ppf(1-alpha/2)\n",
    "    return z_score"
   ]
  },
  {
   "cell_type": "code",
   "execution_count": 3,
   "metadata": {},
   "outputs": [
    {
     "data": {
      "text/html": [
       "<div>\n",
       "<style scoped>\n",
       "    .dataframe tbody tr th:only-of-type {\n",
       "        vertical-align: middle;\n",
       "    }\n",
       "\n",
       "    .dataframe tbody tr th {\n",
       "        vertical-align: top;\n",
       "    }\n",
       "\n",
       "    .dataframe thead th {\n",
       "        text-align: right;\n",
       "    }\n",
       "</style>\n",
       "<table border=\"1\" class=\"dataframe\">\n",
       "  <thead>\n",
       "    <tr style=\"text-align: right;\">\n",
       "      <th></th>\n",
       "      <th>metric_description</th>\n",
       "      <th>baseline_value</th>\n",
       "    </tr>\n",
       "  </thead>\n",
       "  <tbody>\n",
       "    <tr>\n",
       "      <th>0</th>\n",
       "      <td>Unique cookies to view course overview page pe...</td>\n",
       "      <td>40000.000000</td>\n",
       "    </tr>\n",
       "    <tr>\n",
       "      <th>1</th>\n",
       "      <td>Unique cookies to click \"Start free trial\" per...</td>\n",
       "      <td>3200.000000</td>\n",
       "    </tr>\n",
       "    <tr>\n",
       "      <th>2</th>\n",
       "      <td>Enrollments per day:</td>\n",
       "      <td>660.000000</td>\n",
       "    </tr>\n",
       "    <tr>\n",
       "      <th>3</th>\n",
       "      <td>Click-through-probability on \"Start free trial\":</td>\n",
       "      <td>0.080000</td>\n",
       "    </tr>\n",
       "    <tr>\n",
       "      <th>4</th>\n",
       "      <td>Probability of enrolling, given click:</td>\n",
       "      <td>0.206250</td>\n",
       "    </tr>\n",
       "    <tr>\n",
       "      <th>5</th>\n",
       "      <td>Probability of payment, given enroll:</td>\n",
       "      <td>0.530000</td>\n",
       "    </tr>\n",
       "    <tr>\n",
       "      <th>6</th>\n",
       "      <td>Probability of payment, given click</td>\n",
       "      <td>0.109313</td>\n",
       "    </tr>\n",
       "  </tbody>\n",
       "</table>\n",
       "</div>"
      ],
      "text/plain": [
       "                                  metric_description  baseline_value\n",
       "0  Unique cookies to view course overview page pe...    40000.000000\n",
       "1  Unique cookies to click \"Start free trial\" per...     3200.000000\n",
       "2                               Enrollments per day:      660.000000\n",
       "3   Click-through-probability on \"Start free trial\":        0.080000\n",
       "4             Probability of enrolling, given click:        0.206250\n",
       "5              Probability of payment, given enroll:        0.530000\n",
       "6                Probability of payment, given click        0.109313"
      ]
     },
     "execution_count": 3,
     "metadata": {},
     "output_type": "execute_result"
    }
   ],
   "source": [
    "###2.Calculate sample size\n",
    "##2.1 Import baseline data\n",
    "bsl_val = pd.read_csv(\"C:/Users/Dell/Desktop/AB Testing/baseline_values.csv\", header=None, names=['metric_description', 'baseline_value'], index_col=False)\n",
    "bsl_val"
   ]
  },
  {
   "cell_type": "code",
   "execution_count": 4,
   "metadata": {},
   "outputs": [
    {
     "name": "stdout",
     "output_type": "stream",
     "text": [
      "The SD for gross conversion is  0.0202\n",
      "The SD for retention is  0.0549\n",
      "The SD for net conversion is  0.0156\n"
     ]
    }
   ],
   "source": [
    "##2.2 Measuring analytical standard deviation\n",
    "sp_size_pageviews = 5000\n",
    "sp_size_clicks = 3200*(5000/40000)\n",
    "sp_size_enrollments = 660*(5000/40000)\n",
    "\n",
    "sd_gross_conversion = round(get_sd(0.20625, sp_size_clicks), 4)\n",
    "sd_retention = round(get_sd(0.53, sp_size_enrollments), 4)\n",
    "sd_net_conversion = round(get_sd(0.10931, sp_size_clicks), 4)\n",
    "print (\"The SD for gross conversion is \", sd_gross_conversion)\n",
    "print(\"The SD for retention is \", sd_retention)\n",
    "print(\"The SD for net conversion is \", sd_net_conversion)"
   ]
  },
  {
   "cell_type": "code",
   "execution_count": 5,
   "metadata": {},
   "outputs": [],
   "source": [
    "##2.3 Sizing\n",
    "#We use an alpha of 0.05 and a beta of 0.2\n",
    "#Use online calculator to get the sample size.\n",
    "#Gross Conversion: the pageview requirede is 645,875\n",
    "#Retention: the pageview required is 4,741,213\n",
    "#Net Conversion: the pageview required is 685,325"
   ]
  },
  {
   "cell_type": "code",
   "execution_count": 6,
   "metadata": {},
   "outputs": [
    {
     "data": {
      "text/html": [
       "<div>\n",
       "<style scoped>\n",
       "    .dataframe tbody tr th:only-of-type {\n",
       "        vertical-align: middle;\n",
       "    }\n",
       "\n",
       "    .dataframe tbody tr th {\n",
       "        vertical-align: top;\n",
       "    }\n",
       "\n",
       "    .dataframe thead th {\n",
       "        text-align: right;\n",
       "    }\n",
       "</style>\n",
       "<table border=\"1\" class=\"dataframe\">\n",
       "  <thead>\n",
       "    <tr style=\"text-align: right;\">\n",
       "      <th></th>\n",
       "      <th>Date</th>\n",
       "      <th>Pageviews</th>\n",
       "      <th>Clicks</th>\n",
       "      <th>Enrollments</th>\n",
       "      <th>Payments</th>\n",
       "    </tr>\n",
       "  </thead>\n",
       "  <tbody>\n",
       "    <tr>\n",
       "      <th>0</th>\n",
       "      <td>Sat, Oct 11</td>\n",
       "      <td>7723</td>\n",
       "      <td>687</td>\n",
       "      <td>134.0</td>\n",
       "      <td>70.0</td>\n",
       "    </tr>\n",
       "    <tr>\n",
       "      <th>1</th>\n",
       "      <td>Sun, Oct 12</td>\n",
       "      <td>9102</td>\n",
       "      <td>779</td>\n",
       "      <td>147.0</td>\n",
       "      <td>70.0</td>\n",
       "    </tr>\n",
       "    <tr>\n",
       "      <th>2</th>\n",
       "      <td>Mon, Oct 13</td>\n",
       "      <td>10511</td>\n",
       "      <td>909</td>\n",
       "      <td>167.0</td>\n",
       "      <td>95.0</td>\n",
       "    </tr>\n",
       "    <tr>\n",
       "      <th>3</th>\n",
       "      <td>Tue, Oct 14</td>\n",
       "      <td>9871</td>\n",
       "      <td>836</td>\n",
       "      <td>156.0</td>\n",
       "      <td>105.0</td>\n",
       "    </tr>\n",
       "    <tr>\n",
       "      <th>4</th>\n",
       "      <td>Wed, Oct 15</td>\n",
       "      <td>10014</td>\n",
       "      <td>837</td>\n",
       "      <td>163.0</td>\n",
       "      <td>64.0</td>\n",
       "    </tr>\n",
       "  </tbody>\n",
       "</table>\n",
       "</div>"
      ],
      "text/plain": [
       "          Date  Pageviews  Clicks  Enrollments  Payments\n",
       "0  Sat, Oct 11       7723     687        134.0      70.0\n",
       "1  Sun, Oct 12       9102     779        147.0      70.0\n",
       "2  Mon, Oct 13      10511     909        167.0      95.0\n",
       "3  Tue, Oct 14       9871     836        156.0     105.0\n",
       "4  Wed, Oct 15      10014     837        163.0      64.0"
      ]
     },
     "execution_count": 6,
     "metadata": {},
     "output_type": "execute_result"
    }
   ],
   "source": [
    "###3.Experiment Analysis\n",
    "##3.1 Import the data for analyzing\n",
    "control = pd.read_csv(\"C:/Users/Dell/Desktop/AB Testing/control_data.csv\", index_col=False)\n",
    "experiment = pd.read_csv(\"C:/Users/Dell/Desktop/AB Testing/experiment_data.csv\", index_col=False)\n",
    "control.head()"
   ]
  },
  {
   "cell_type": "code",
   "execution_count": 7,
   "metadata": {},
   "outputs": [
    {
     "name": "stdout",
     "output_type": "stream",
     "text": [
      "The number of unique cookies to view the course overview page in control: 345543\n",
      "number of unique cookies to view the course overview page in experiment: 344660\n"
     ]
    }
   ],
   "source": [
    "##3.2 Sanity checks\n",
    "#3.2.1 Number of cookies: the number of unique cookies to view the course overview page\n",
    "pageviews_ctrl = control['Pageviews'].sum()\n",
    "pageviews_exp = experiment['Pageviews'].sum()\n",
    "pageviews_total = pageviews_ctrl + pageviews_exp\n",
    "print (\"The number of unique cookies to view the course overview page in control:\", pageviews_ctrl)\n",
    "print (\"number of unique cookies to view the course overview page in experiment:\" , pageviews_exp)"
   ]
  },
  {
   "cell_type": "code",
   "execution_count": 8,
   "metadata": {},
   "outputs": [
    {
     "name": "stdout",
     "output_type": "stream",
     "text": [
      "The p-hat is 0.4994\n",
      "The 95.0 % confidence interval is [ 0.4988 , 0.5012 ]\n"
     ]
    }
   ],
   "source": [
    "#The two numbers of cookies in control and experiment group seem close\n",
    "#We expect \n",
    "p = 0.5\n",
    "alpha = 0.05\n",
    "p_hat = round(pageviews_exp/pageviews_total, 4)\n",
    "sd = get_sd(p_hat, pageviews_total)\n",
    "margin_error = round(get_z_score(alpha)*sd, 4)\n",
    "print(\"The p-hat is\", p_hat)\n",
    "print(\"The\", (1-alpha)*100, \"% confidence interval is [\", p-margin_error, \",\", p+margin_error, \"]\")"
   ]
  },
  {
   "cell_type": "code",
   "execution_count": 9,
   "metadata": {},
   "outputs": [
    {
     "name": "stdout",
     "output_type": "stream",
     "text": [
      "The number of unique cookies to click the \"Start free trial\" button in control: 28378\n",
      "The number of unique cookies to click the \"Start free trial\" button in experiment: 28325\n"
     ]
    }
   ],
   "source": [
    "#3.2.2 Number of clicks: The number of unique cookies to click the \"Start free trial\" button\n",
    "clicks_ctrl = control['Clicks'].sum()\n",
    "clicks_exp = experiment['Clicks'].sum()\n",
    "clicks_total = clicks_ctrl + clicks_exp\n",
    "print('The number of unique cookies to click the \"Start free trial\" button in control:', clicks_ctrl)\n",
    "print('The number of unique cookies to click the \"Start free trial\" button in experiment:', clicks_exp)"
   ]
  },
  {
   "cell_type": "code",
   "execution_count": 10,
   "metadata": {},
   "outputs": [
    {
     "name": "stdout",
     "output_type": "stream",
     "text": [
      "The p-hat is 0.4995\n",
      "The 95.0 % confidence interval is [ 0.4959 , 0.5041 ]\n"
     ]
    }
   ],
   "source": [
    "#The two numbers of cookies in control and experiment group seem close too\n",
    "#\n",
    "p = 0.5\n",
    "alpha = 0.05\n",
    "p_hat = round(clicks_exp/clicks_total, 4)\n",
    "sd = get_sd(p_hat, clicks_total)\n",
    "margin_error = round(get_z_score(alpha)*sd, 4)\n",
    "print(\"The p-hat is\", p_hat)\n",
    "print(\"The\", (1-alpha)*100, \"% confidence interval is [\", p-margin_error, \",\", p+margin_error, \"]\")"
   ]
  },
  {
   "cell_type": "code",
   "execution_count": 11,
   "metadata": {},
   "outputs": [
    {
     "name": "stdout",
     "output_type": "stream",
     "text": [
      "The difference is 0.0001\n",
      "The 95.0 % confidence interval is [ -0.0013 , 0.0013 ]\n"
     ]
    }
   ],
   "source": [
    "#3.2.3 Click-through-probability: The number of unique cookies to click the \"Start free trial\" button\n",
    "##                                divided by number of unique cookies to view the course overview page\n",
    "#When compare two samples of probability, \n",
    "ctp_ctrl = clicks_ctrl/pageviews_ctrl\n",
    "ctp_exp = clicks_exp/pageviews_exp\n",
    "ctp_diff = round(ctp_exp-ctp_ctrl, 4)\n",
    "\n",
    "alpha = 0.05\n",
    "p_hat_pooled = clicks_total/pageviews_total\n",
    "sd_pooled = get_pooled_sd(p_hat_pooled, pageviews_ctrl, pageviews_exp)\n",
    "margin_error = round(get_z_score(alpha)*sd_pooled, 4)\n",
    "print(\"The difference is\", ctp_diff)\n",
    "print(\"The\", (1-alpha)*100, \"% confidence interval is [\", 0-margin_error, \",\", 0+margin_error, \"]\")"
   ]
  },
  {
   "cell_type": "code",
   "execution_count": 12,
   "metadata": {},
   "outputs": [],
   "source": [
    "##3.3 Effect Size Tests\n",
    "#We noticed that the data given by Udacity listed pageviews and clicks for 39 days,\n",
    "#while it only lists enrollments and payments for 23 days.\n",
    "#When examining the effect size, we could only use data of complete information, that is, the former 23 days data.\n",
    "#3.3.1 Keep the data with complete information\n",
    "control_notnull = control[pd.notnull(control['Enrollments'])]\n",
    "experiment_notnull = experiment[pd.notnull(experiment['Enrollments'])]"
   ]
  },
  {
   "cell_type": "code",
   "execution_count": 13,
   "metadata": {},
   "outputs": [
    {
     "name": "stdout",
     "output_type": "stream",
     "text": [
      "The change due to the experiment is -2.06 %\n",
      "The 95.0 % confidence Interval is [ -0.0292 , -0.012 ]\n",
      "A meaningfull change for business is -0.01\n"
     ]
    }
   ],
   "source": [
    "#3.3.2 Gross Conversion: the probability of enrolling, given click\n",
    "clicks_ctrl = control_notnull['Clicks'].sum()\n",
    "clicks_exp = experiment_notnull['Clicks'].sum()\n",
    "clicks_total = clicks_ctrl+clicks_exp\n",
    "\n",
    "enrollments_ctrl = control_notnull['Enrollments'].sum()\n",
    "enrollments_exp = experiment_notnull['Enrollments'].sum()\n",
    "enrollments_total = enrollments_ctrl+enrollments_exp\n",
    "\n",
    "GC_ctrl = enrollments_ctrl/clicks_ctrl\n",
    "GC_exp = enrollments_exp/clicks_exp\n",
    "GC_diff = round(GC_exp-GC_ctrl, 4)\n",
    "\n",
    "alpha = 0.05\n",
    "GC_pooled = enrollments_total/clicks_total\n",
    "GC_sd_pooled = get_pooled_sd(GC_pooled, clicks_ctrl, clicks_exp)\n",
    "GC_margin_error = round(get_z_score(alpha)*GC_sd_pooled, 4)\n",
    "GC_dmin = 0.01\n",
    "\n",
    "print(\"The change due to the experiment is\", GC_diff*100,\"%\")\n",
    "print(\"The\", (1-alpha)*100, \"% confidence Interval is [\", GC_diff-GC_margin_error, \",\", GC_diff+GC_margin_error, \"]\")\n",
    "print (\"A meaningfull change for business is\", -GC_dmin)"
   ]
  },
  {
   "cell_type": "code",
   "execution_count": 14,
   "metadata": {},
   "outputs": [],
   "source": [
    "#Conclusion:\n",
    "#The GC change is both statistically significant and pratically significant."
   ]
  },
  {
   "cell_type": "code",
   "execution_count": 15,
   "metadata": {},
   "outputs": [
    {
     "name": "stdout",
     "output_type": "stream",
     "text": [
      "The change due to the experiment is -0.49 %\n",
      "The 95.0 % confidence Interval is [ -0.0116 , 0.0018000000000000004 ]\n",
      "A meaningfull change for business is -0.0075\n"
     ]
    }
   ],
   "source": [
    "#3.3.3 Net Conversion: the probability of payment, given click\n",
    "payments_ctrl = control_notnull['Payments'].sum()\n",
    "payments_exp = experiment_notnull['Payments'].sum()\n",
    "payments_total = payments_ctrl+payments_exp\n",
    "\n",
    "NC_ctrl = payments_ctrl/clicks_ctrl\n",
    "NC_exp = payments_exp/clicks_exp\n",
    "NC_pooled = payments_total/clicks_total\n",
    "\n",
    "NC_ctrl = payments_ctrl/clicks_ctrl\n",
    "NC_exp = payments_exp/clicks_exp\n",
    "NC_diff = round(NC_exp-NC_ctrl, 4)\n",
    "\n",
    "alpha = 0.05\n",
    "NC_pooled = payments_total/clicks_total\n",
    "NC_sd_pooled = get_pooled_sd(NC_pooled, clicks_ctrl, clicks_exp)\n",
    "NC_margin_error = round(get_z_score(alpha)*NC_sd_pooled, 4)\n",
    "NC_dmin = 0.0075\n",
    "\n",
    "print(\"The change due to the experiment is\", NC_diff*100,\"%\")\n",
    "print(\"The\", (1-alpha)*100, \"% confidence Interval is [\", NC_diff-NC_margin_error, \",\", NC_diff+NC_margin_error, \"]\")\n",
    "print (\"A meaningfull change for business is\", -NC_dmin)"
   ]
  },
  {
   "cell_type": "code",
   "execution_count": 16,
   "metadata": {},
   "outputs": [],
   "source": [
    "#Conclusion:\n",
    "#The NC change is neither statistically significant nor practically significant."
   ]
  },
  {
   "cell_type": "code",
   "execution_count": 17,
   "metadata": {},
   "outputs": [
    {
     "data": {
      "text/html": [
       "<div>\n",
       "<style scoped>\n",
       "    .dataframe tbody tr th:only-of-type {\n",
       "        vertical-align: middle;\n",
       "    }\n",
       "\n",
       "    .dataframe tbody tr th {\n",
       "        vertical-align: top;\n",
       "    }\n",
       "\n",
       "    .dataframe thead th {\n",
       "        text-align: right;\n",
       "    }\n",
       "</style>\n",
       "<table border=\"1\" class=\"dataframe\">\n",
       "  <thead>\n",
       "    <tr style=\"text-align: right;\">\n",
       "      <th></th>\n",
       "      <th>Date</th>\n",
       "      <th>Pageviews_ctrl</th>\n",
       "      <th>Clicks_ctrl</th>\n",
       "      <th>Enrollments_ctrl</th>\n",
       "      <th>Payments_ctrl</th>\n",
       "      <th>Pageviews_exp</th>\n",
       "      <th>Clicks_exp</th>\n",
       "      <th>Enrollments_exp</th>\n",
       "      <th>Payments_exp</th>\n",
       "    </tr>\n",
       "  </thead>\n",
       "  <tbody>\n",
       "    <tr>\n",
       "      <th>0</th>\n",
       "      <td>Sat, Oct 11</td>\n",
       "      <td>7723</td>\n",
       "      <td>687</td>\n",
       "      <td>134.0</td>\n",
       "      <td>70.0</td>\n",
       "      <td>7716</td>\n",
       "      <td>686</td>\n",
       "      <td>105.0</td>\n",
       "      <td>34.0</td>\n",
       "    </tr>\n",
       "    <tr>\n",
       "      <th>1</th>\n",
       "      <td>Sun, Oct 12</td>\n",
       "      <td>9102</td>\n",
       "      <td>779</td>\n",
       "      <td>147.0</td>\n",
       "      <td>70.0</td>\n",
       "      <td>9288</td>\n",
       "      <td>785</td>\n",
       "      <td>116.0</td>\n",
       "      <td>91.0</td>\n",
       "    </tr>\n",
       "    <tr>\n",
       "      <th>2</th>\n",
       "      <td>Mon, Oct 13</td>\n",
       "      <td>10511</td>\n",
       "      <td>909</td>\n",
       "      <td>167.0</td>\n",
       "      <td>95.0</td>\n",
       "      <td>10480</td>\n",
       "      <td>884</td>\n",
       "      <td>145.0</td>\n",
       "      <td>79.0</td>\n",
       "    </tr>\n",
       "    <tr>\n",
       "      <th>3</th>\n",
       "      <td>Tue, Oct 14</td>\n",
       "      <td>9871</td>\n",
       "      <td>836</td>\n",
       "      <td>156.0</td>\n",
       "      <td>105.0</td>\n",
       "      <td>9867</td>\n",
       "      <td>827</td>\n",
       "      <td>138.0</td>\n",
       "      <td>92.0</td>\n",
       "    </tr>\n",
       "    <tr>\n",
       "      <th>4</th>\n",
       "      <td>Wed, Oct 15</td>\n",
       "      <td>10014</td>\n",
       "      <td>837</td>\n",
       "      <td>163.0</td>\n",
       "      <td>64.0</td>\n",
       "      <td>9793</td>\n",
       "      <td>832</td>\n",
       "      <td>140.0</td>\n",
       "      <td>94.0</td>\n",
       "    </tr>\n",
       "  </tbody>\n",
       "</table>\n",
       "</div>"
      ],
      "text/plain": [
       "          Date  Pageviews_ctrl  Clicks_ctrl  Enrollments_ctrl  Payments_ctrl  \\\n",
       "0  Sat, Oct 11            7723          687             134.0           70.0   \n",
       "1  Sun, Oct 12            9102          779             147.0           70.0   \n",
       "2  Mon, Oct 13           10511          909             167.0           95.0   \n",
       "3  Tue, Oct 14            9871          836             156.0          105.0   \n",
       "4  Wed, Oct 15           10014          837             163.0           64.0   \n",
       "\n",
       "   Pageviews_exp  Clicks_exp  Enrollments_exp  Payments_exp  \n",
       "0           7716         686            105.0          34.0  \n",
       "1           9288         785            116.0          91.0  \n",
       "2          10480         884            145.0          79.0  \n",
       "3           9867         827            138.0          92.0  \n",
       "4           9793         832            140.0          94.0  "
      ]
     },
     "execution_count": 17,
     "metadata": {},
     "output_type": "execute_result"
    }
   ],
   "source": [
    "##3.4 Sign Tests\n",
    "df_sign_test = pd.merge(control_notnull, experiment_notnull, how='inner', on='Date', suffixes=('_ctrl', '_exp'))\n",
    "df_sign_test.head()"
   ]
  },
  {
   "cell_type": "code",
   "execution_count": 18,
   "metadata": {},
   "outputs": [
    {
     "name": "stdout",
     "output_type": "stream",
     "text": [
      "For gross conversion, the number of successes we observed is 4\n",
      "For net conversion, the number of successes we observed is 10\n",
      "The total number of trials is 23\n"
     ]
    }
   ],
   "source": [
    "df_sign_test['GC_ctrl'] = df_sign_test['Enrollments_ctrl']/df_sign_test['Clicks_ctrl']\n",
    "df_sign_test['GC_exp'] = df_sign_test['Enrollments_exp']/df_sign_test['Clicks_exp']\n",
    "df_sign_test['GC'] = np.where(df_sign_test['GC_exp']>df_sign_test['GC_ctrl'], 1, 0)\n",
    "\n",
    "df_sign_test['NC_ctrl'] = df_sign_test['Payments_ctrl']/df_sign_test['Clicks_ctrl']\n",
    "df_sign_test['NC_exp'] = df_sign_test['Payments_exp']/df_sign_test['Clicks_exp']\n",
    "df_sign_test['NC'] = np.where(df_sign_test['NC_exp']>df_sign_test['NC_ctrl'], 1, 0)\n",
    "\n",
    "GC_success = df_sign_test['GC'].sum()\n",
    "NC_success = df_sign_test['NC'].sum()\n",
    "num_trials = df_sign_test['GC'].count()\n",
    "print(\"For gross conversion, the number of successes we observed is\", GC_success)\n",
    "print(\"For net conversion, the number of successes we observed is\", NC_success)\n",
    "print(\"The total number of trials is\", num_trials)"
   ]
  },
  {
   "cell_type": "code",
   "execution_count": 19,
   "metadata": {},
   "outputs": [],
   "source": [
    "#Use online calculater to get the p value for each metric.\n",
    "#GC: The two-tail P value is 0.0026, less than 0.05 and we can reject H0, which means GC change is significant\n",
    "#NC: The two-tail P value is 0.6776, greater than 0.05 and we can't reject H0, which means NC change is not significant\n",
    "#The conclusion from sign tests aligns with our parametric hypothesis test."
   ]
  },
  {
   "cell_type": "code",
   "execution_count": null,
   "metadata": {},
   "outputs": [],
   "source": []
  }
 ],
 "metadata": {
  "kernelspec": {
   "display_name": "Python 3",
   "language": "python",
   "name": "python3"
  },
  "language_info": {
   "codemirror_mode": {
    "name": "ipython",
    "version": 3
   },
   "file_extension": ".py",
   "mimetype": "text/x-python",
   "name": "python",
   "nbconvert_exporter": "python",
   "pygments_lexer": "ipython3",
   "version": "3.7.5"
  }
 },
 "nbformat": 4,
 "nbformat_minor": 2
}
